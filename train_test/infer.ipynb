{
 "cells": [
  {
   "cell_type": "markdown",
   "metadata": {},
   "source": [
    "## Install"
   ]
  },
  {
   "cell_type": "code",
   "execution_count": 2,
   "metadata": {
    "_cell_guid": "b1076dfc-b9ad-4769-8c92-a6c4dae69d19",
    "_uuid": "8f2839f25d086af736a60e9eeb907d3b93b6e0e5",
    "execution": {
     "iopub.execute_input": "2024-12-27T14:28:23.755973Z",
     "iopub.status.busy": "2024-12-27T14:28:23.755627Z",
     "iopub.status.idle": "2024-12-27T14:31:43.160061Z",
     "shell.execute_reply": "2024-12-27T14:31:43.158992Z",
     "shell.execute_reply.started": "2024-12-27T14:28:23.755947Z"
    },
    "trusted": true
   },
   "outputs": [],
   "source": [
    "%%capture\n",
    "!pip install pip3-autoremove\n",
    "!pip-autoremove torch torchvision torchaudio -y\n",
    "!pip install torch torchvision torchaudio xformers --index-url https://download.pytorch.org/whl/cu121\n",
    "!pip install unsloth"
   ]
  },
  {
   "cell_type": "code",
   "execution_count": 3,
   "metadata": {
    "execution": {
     "iopub.execute_input": "2024-12-27T14:31:43.161552Z",
     "iopub.status.busy": "2024-12-27T14:31:43.161288Z",
     "iopub.status.idle": "2024-12-27T14:31:46.740859Z",
     "shell.execute_reply": "2024-12-27T14:31:46.739839Z",
     "shell.execute_reply.started": "2024-12-27T14:31:43.161531Z"
    },
    "trusted": true
   },
   "outputs": [],
   "source": [
    "!pip install -q datasets"
   ]
  },
  {
   "cell_type": "markdown",
   "metadata": {},
   "source": [
    "## Config"
   ]
  },
  {
   "cell_type": "code",
   "execution_count": 4,
   "metadata": {
    "execution": {
     "iopub.execute_input": "2024-12-27T14:31:46.742602Z",
     "iopub.status.busy": "2024-12-27T14:31:46.742351Z",
     "iopub.status.idle": "2024-12-27T14:31:46.746538Z",
     "shell.execute_reply": "2024-12-27T14:31:46.745619Z",
     "shell.execute_reply.started": "2024-12-27T14:31:46.742581Z"
    },
    "trusted": true
   },
   "outputs": [],
   "source": [
    "TEST_DATA_PATH = \"/kaggle/input/vcs-b1/B1.csv\"\n",
    "MODEL_PATH = \"/kaggle/input/vcs-lora-model\""
   ]
  },
  {
   "cell_type": "markdown",
   "metadata": {},
   "source": [
    "## Prepare dataset"
   ]
  },
  {
   "cell_type": "code",
   "execution_count": 30,
   "metadata": {
    "execution": {
     "iopub.execute_input": "2024-12-27T14:53:38.110550Z",
     "iopub.status.busy": "2024-12-27T14:53:38.110212Z",
     "iopub.status.idle": "2024-12-27T14:53:38.725477Z",
     "shell.execute_reply": "2024-12-27T14:53:38.724532Z",
     "shell.execute_reply.started": "2024-12-27T14:53:38.110524Z"
    },
    "trusted": true
   },
   "outputs": [],
   "source": [
    "from datasets import load_dataset\n",
    "test_dataset = load_dataset('csv', data_files=TEST_DATA_PATH)['train']"
   ]
  },
  {
   "cell_type": "code",
   "execution_count": 31,
   "metadata": {
    "execution": {
     "iopub.execute_input": "2024-12-27T14:53:39.735469Z",
     "iopub.status.busy": "2024-12-27T14:53:39.735119Z",
     "iopub.status.idle": "2024-12-27T14:53:39.740790Z",
     "shell.execute_reply": "2024-12-27T14:53:39.739942Z",
     "shell.execute_reply.started": "2024-12-27T14:53:39.735439Z"
    },
    "trusted": true
   },
   "outputs": [
    {
     "data": {
      "text/plain": [
       "Dataset({\n",
       "    features: ['index', 'question', 'ground_truth'],\n",
       "    num_rows: 150\n",
       "})"
      ]
     },
     "execution_count": 31,
     "metadata": {},
     "output_type": "execute_result"
    }
   ],
   "source": [
    "test_dataset"
   ]
  },
  {
   "cell_type": "markdown",
   "metadata": {},
   "source": [
    "## Load model"
   ]
  },
  {
   "cell_type": "code",
   "execution_count": 7,
   "metadata": {
    "execution": {
     "iopub.execute_input": "2024-12-27T14:31:49.204806Z",
     "iopub.status.busy": "2024-12-27T14:31:49.204468Z",
     "iopub.status.idle": "2024-12-27T14:32:04.983074Z",
     "shell.execute_reply": "2024-12-27T14:32:04.982023Z",
     "shell.execute_reply.started": "2024-12-27T14:31:49.204772Z"
    },
    "trusted": true
   },
   "outputs": [
    {
     "name": "stdout",
     "output_type": "stream",
     "text": [
      "🦥 Unsloth: Will patch your computer to enable 2x faster free finetuning.\n",
      "🦥 Unsloth Zoo will now patch everything to make training faster!\n"
     ]
    }
   ],
   "source": [
    "from unsloth import FastLanguageModel\n",
    "import torch\n",
    "max_seq_length = 2048 # Choose any! We auto support RoPE Scaling internally!\n",
    "dtype = None # None for auto detection. Float16 for Tesla T4, V100, Bfloat16 for Ampere+\n",
    "load_in_4bit = True # Use 4bit quantization to reduce memory usage. Can be False."
   ]
  },
  {
   "cell_type": "code",
   "execution_count": 8,
   "metadata": {
    "execution": {
     "iopub.execute_input": "2024-12-27T14:32:04.984394Z",
     "iopub.status.busy": "2024-12-27T14:32:04.984066Z",
     "iopub.status.idle": "2024-12-27T14:33:21.340192Z",
     "shell.execute_reply": "2024-12-27T14:33:21.339215Z",
     "shell.execute_reply.started": "2024-12-27T14:32:04.984357Z"
    },
    "trusted": true
   },
   "outputs": [
    {
     "name": "stdout",
     "output_type": "stream",
     "text": [
      "==((====))==  Unsloth 2024.12.11: Fast Llama patching. Transformers: 4.47.1.\n",
      "   \\\\   /|    GPU: Tesla P100-PCIE-16GB. Max memory: 15.888 GB. Platform: Linux.\n",
      "O^O/ \\_/ \\    Torch: 2.5.1+cu121. CUDA: 6.0. CUDA Toolkit: 12.1. Triton: 3.1.0\n",
      "\\        /    Bfloat16 = FALSE. FA [Xformers = 0.0.29. FA2 = False]\n",
      " \"-____-\"     Free Apache license: http://github.com/unslothai/unsloth\n",
      "Unsloth: Fast downloading is enabled - ignore downloading bars which are red colored!\n"
     ]
    },
    {
     "data": {
      "application/vnd.jupyter.widget-view+json": {
       "model_id": "f9200012ce594ab6b8c093016cf5eeff",
       "version_major": 2,
       "version_minor": 0
      },
      "text/plain": [
       "model.safetensors:   0%|          | 0.00/2.47G [00:00<?, ?B/s]"
      ]
     },
     "metadata": {},
     "output_type": "display_data"
    },
    {
     "data": {
      "application/vnd.jupyter.widget-view+json": {
       "model_id": "2d39f7550a8d487f819101cb3c83609c",
       "version_major": 2,
       "version_minor": 0
      },
      "text/plain": [
       "generation_config.json:   0%|          | 0.00/121 [00:00<?, ?B/s]"
      ]
     },
     "metadata": {},
     "output_type": "display_data"
    },
    {
     "name": "stderr",
     "output_type": "stream",
     "text": [
      "Unsloth 2024.12.11 patched 16 layers with 16 QKV layers, 16 O layers and 16 MLP layers.\n"
     ]
    },
    {
     "data": {
      "text/plain": [
       "PeftModelForCausalLM(\n",
       "  (base_model): LoraModel(\n",
       "    (model): LlamaForCausalLM(\n",
       "      (model): LlamaModel(\n",
       "        (embed_tokens): Embedding(128256, 2048, padding_idx=128004)\n",
       "        (layers): ModuleList(\n",
       "          (0-15): 16 x LlamaDecoderLayer(\n",
       "            (self_attn): LlamaAttention(\n",
       "              (q_proj): lora.Linear(\n",
       "                (base_layer): Linear(in_features=2048, out_features=2048, bias=False)\n",
       "                (lora_dropout): ModuleDict(\n",
       "                  (default): Identity()\n",
       "                )\n",
       "                (lora_A): ModuleDict(\n",
       "                  (default): Linear(in_features=2048, out_features=128, bias=False)\n",
       "                )\n",
       "                (lora_B): ModuleDict(\n",
       "                  (default): Linear(in_features=128, out_features=2048, bias=False)\n",
       "                )\n",
       "                (lora_embedding_A): ParameterDict()\n",
       "                (lora_embedding_B): ParameterDict()\n",
       "                (lora_magnitude_vector): ModuleDict()\n",
       "              )\n",
       "              (k_proj): lora.Linear(\n",
       "                (base_layer): Linear(in_features=2048, out_features=512, bias=False)\n",
       "                (lora_dropout): ModuleDict(\n",
       "                  (default): Identity()\n",
       "                )\n",
       "                (lora_A): ModuleDict(\n",
       "                  (default): Linear(in_features=2048, out_features=128, bias=False)\n",
       "                )\n",
       "                (lora_B): ModuleDict(\n",
       "                  (default): Linear(in_features=128, out_features=512, bias=False)\n",
       "                )\n",
       "                (lora_embedding_A): ParameterDict()\n",
       "                (lora_embedding_B): ParameterDict()\n",
       "                (lora_magnitude_vector): ModuleDict()\n",
       "              )\n",
       "              (v_proj): lora.Linear(\n",
       "                (base_layer): Linear(in_features=2048, out_features=512, bias=False)\n",
       "                (lora_dropout): ModuleDict(\n",
       "                  (default): Identity()\n",
       "                )\n",
       "                (lora_A): ModuleDict(\n",
       "                  (default): Linear(in_features=2048, out_features=128, bias=False)\n",
       "                )\n",
       "                (lora_B): ModuleDict(\n",
       "                  (default): Linear(in_features=128, out_features=512, bias=False)\n",
       "                )\n",
       "                (lora_embedding_A): ParameterDict()\n",
       "                (lora_embedding_B): ParameterDict()\n",
       "                (lora_magnitude_vector): ModuleDict()\n",
       "              )\n",
       "              (o_proj): lora.Linear(\n",
       "                (base_layer): Linear(in_features=2048, out_features=2048, bias=False)\n",
       "                (lora_dropout): ModuleDict(\n",
       "                  (default): Identity()\n",
       "                )\n",
       "                (lora_A): ModuleDict(\n",
       "                  (default): Linear(in_features=2048, out_features=128, bias=False)\n",
       "                )\n",
       "                (lora_B): ModuleDict(\n",
       "                  (default): Linear(in_features=128, out_features=2048, bias=False)\n",
       "                )\n",
       "                (lora_embedding_A): ParameterDict()\n",
       "                (lora_embedding_B): ParameterDict()\n",
       "                (lora_magnitude_vector): ModuleDict()\n",
       "              )\n",
       "              (rotary_emb): LlamaExtendedRotaryEmbedding()\n",
       "            )\n",
       "            (mlp): LlamaMLP(\n",
       "              (gate_proj): lora.Linear(\n",
       "                (base_layer): Linear(in_features=2048, out_features=8192, bias=False)\n",
       "                (lora_dropout): ModuleDict(\n",
       "                  (default): Identity()\n",
       "                )\n",
       "                (lora_A): ModuleDict(\n",
       "                  (default): Linear(in_features=2048, out_features=128, bias=False)\n",
       "                )\n",
       "                (lora_B): ModuleDict(\n",
       "                  (default): Linear(in_features=128, out_features=8192, bias=False)\n",
       "                )\n",
       "                (lora_embedding_A): ParameterDict()\n",
       "                (lora_embedding_B): ParameterDict()\n",
       "                (lora_magnitude_vector): ModuleDict()\n",
       "              )\n",
       "              (up_proj): lora.Linear(\n",
       "                (base_layer): Linear(in_features=2048, out_features=8192, bias=False)\n",
       "                (lora_dropout): ModuleDict(\n",
       "                  (default): Identity()\n",
       "                )\n",
       "                (lora_A): ModuleDict(\n",
       "                  (default): Linear(in_features=2048, out_features=128, bias=False)\n",
       "                )\n",
       "                (lora_B): ModuleDict(\n",
       "                  (default): Linear(in_features=128, out_features=8192, bias=False)\n",
       "                )\n",
       "                (lora_embedding_A): ParameterDict()\n",
       "                (lora_embedding_B): ParameterDict()\n",
       "                (lora_magnitude_vector): ModuleDict()\n",
       "              )\n",
       "              (down_proj): lora.Linear(\n",
       "                (base_layer): Linear(in_features=8192, out_features=2048, bias=False)\n",
       "                (lora_dropout): ModuleDict(\n",
       "                  (default): Identity()\n",
       "                )\n",
       "                (lora_A): ModuleDict(\n",
       "                  (default): Linear(in_features=8192, out_features=128, bias=False)\n",
       "                )\n",
       "                (lora_B): ModuleDict(\n",
       "                  (default): Linear(in_features=128, out_features=2048, bias=False)\n",
       "                )\n",
       "                (lora_embedding_A): ParameterDict()\n",
       "                (lora_embedding_B): ParameterDict()\n",
       "                (lora_magnitude_vector): ModuleDict()\n",
       "              )\n",
       "              (act_fn): SiLU()\n",
       "            )\n",
       "            (input_layernorm): LlamaRMSNorm((2048,), eps=1e-05)\n",
       "            (post_attention_layernorm): LlamaRMSNorm((2048,), eps=1e-05)\n",
       "          )\n",
       "        )\n",
       "        (norm): LlamaRMSNorm((2048,), eps=1e-05)\n",
       "        (rotary_emb): LlamaRotaryEmbedding()\n",
       "      )\n",
       "      (lm_head): Linear(in_features=2048, out_features=128256, bias=False)\n",
       "    )\n",
       "  )\n",
       ")"
      ]
     },
     "execution_count": 8,
     "metadata": {},
     "output_type": "execute_result"
    }
   ],
   "source": [
    "from unsloth import FastLanguageModel\n",
    "model_infer, tokenizer_infer = FastLanguageModel.from_pretrained(\n",
    "    model_name = MODEL_PATH, # YOUR MODEL YOU USED FOR TRAINING\n",
    "    max_seq_length = max_seq_length,\n",
    "    dtype = dtype,\n",
    "    load_in_4bit = False,\n",
    "    #load_in_4bit = load_in_4bit,\n",
    ")\n",
    "FastLanguageModel.for_inference(model_infer) # Enable native 2x faster inference"
   ]
  },
  {
   "cell_type": "markdown",
   "metadata": {},
   "source": [
    "## Inference"
   ]
  },
  {
   "cell_type": "code",
   "execution_count": 9,
   "metadata": {
    "execution": {
     "iopub.execute_input": "2024-12-27T14:33:21.342646Z",
     "iopub.status.busy": "2024-12-27T14:33:21.342389Z",
     "iopub.status.idle": "2024-12-27T14:33:21.348197Z",
     "shell.execute_reply": "2024-12-27T14:33:21.347351Z",
     "shell.execute_reply.started": "2024-12-27T14:33:21.342623Z"
    },
    "trusted": true
   },
   "outputs": [],
   "source": [
    "def infer_template(dataset, index):\n",
    "    \"\"\"\n",
    "    Tạo một chuỗi văn bản với định dạng chuẩn, bao gồm câu hỏi và các lựa chọn từ một bản ghi trong dataset.\n",
    "    \n",
    "    Args:\n",
    "        dataset (Dataset): Dữ liệu đầu vào chứa các câu hỏi và lựa chọn.\n",
    "        index (int): Chỉ số của phần tử trong dataset cần được xử lý.\n",
    "    \n",
    "    Returns:\n",
    "        str: Một chuỗi văn bản đã được định dạng với câu hỏi và các lựa chọn.\n",
    "    \n",
    "    Example:\n",
    "        infer_template(dataset, 0)\n",
    "        # Trả về một chuỗi văn bản với câu hỏi và các lựa chọn của phần tử tại chỉ số 0 trong dataset.\n",
    "    \"\"\"\n",
    "    \n",
    "    # Lấy câu hỏi từ phần tử dataset\n",
    "    question_end_index = dataset[index]['question'].find('A.')\n",
    "    question = dataset[index]['question'][:question_end_index]\n",
    "    \n",
    "    # Lấy các lựa chọn (choices) từ phần tử dataset\n",
    "    choices = dataset[index]['question'][question_end_index:].replace('  ', ' ')\n",
    "    \n",
    "    # Định dạng văn bản đầu ra\n",
    "    text = f\"\"\"<|begin_of_text|><|start_header_id|>system<|end_header_id|>\n",
    "You are a cybersecurity assistant answering multiple-choice questions on ethical hacking and cybersecurity practices, specifically aligned with CEH v10 standards. Return only the correct answer without providing explanations.\n",
    "<|eot_id|><|start_header_id|>user<|end_header_id|>\n",
    "\n",
    "Question: {question}\n",
    "Choices: \n",
    "{choices}\n",
    "<|eot_id|><|start_header_id|>assistant<|end_header_id|>\n",
    "\"\"\"\n",
    "\n",
    "    return text\n"
   ]
  },
  {
   "cell_type": "code",
   "execution_count": 10,
   "metadata": {
    "execution": {
     "iopub.execute_input": "2024-12-27T14:33:21.349537Z",
     "iopub.status.busy": "2024-12-27T14:33:21.349290Z",
     "iopub.status.idle": "2024-12-27T14:33:21.369294Z",
     "shell.execute_reply": "2024-12-27T14:33:21.368615Z",
     "shell.execute_reply.started": "2024-12-27T14:33:21.349517Z"
    },
    "trusted": true
   },
   "outputs": [],
   "source": [
    "def inference(input):\n",
    "    \"\"\"\n",
    "    Perform inference using the model and tokenizer.\n",
    "\n",
    "    Parameters:\n",
    "        input (str): The user input to be processed.\n",
    "\n",
    "    Returns:\n",
    "        str: The decoded output from the model.\n",
    "    \"\"\"\n",
    "    # Tokenize input and move tensors to GPU\n",
    "    inputs = tokenizer_infer(input, return_tensors=\"pt\", add_special_tokens=True).to(\"cuda\")\n",
    "\n",
    "    # Generate output from the model\n",
    "    outputs = model_infer.generate(\n",
    "        input_ids=inputs[\"input_ids\"],\n",
    "        max_new_tokens=64,\n",
    "        use_cache=True,\n",
    "        temperature=0.1,\n",
    "        min_p=0.1\n",
    "    )\n",
    "\n",
    "    # Decode and return the result\n",
    "    return tokenizer_infer.decode(outputs[0], skip_special_tokens=True)"
   ]
  },
  {
   "cell_type": "code",
   "execution_count": 11,
   "metadata": {
    "execution": {
     "iopub.execute_input": "2024-12-27T14:33:21.370608Z",
     "iopub.status.busy": "2024-12-27T14:33:21.370278Z",
     "iopub.status.idle": "2024-12-27T14:37:25.020510Z",
     "shell.execute_reply": "2024-12-27T14:37:25.019452Z",
     "shell.execute_reply.started": "2024-12-27T14:33:21.370570Z"
    },
    "trusted": true
   },
   "outputs": [
    {
     "name": "stderr",
     "output_type": "stream",
     "text": [
      "Processing Dataset:   0%|          | 0/150 [00:00<?, ?it/s]The attention mask is not set and cannot be inferred from input because pad token is same as eos token. As a consequence, you may observe unexpected behavior. Please pass your input's `attention_mask` to obtain reliable results.\n",
      "Processing Dataset: 100%|██████████| 150/150 [04:03<00:00,  1.62s/it]\n"
     ]
    }
   ],
   "source": [
    "from tqdm import tqdm\n",
    "\n",
    "def process_dataset(test_dataset, infer_template, inference):\n",
    "    \"\"\"\n",
    "    Process a dataset and collect inference results.\n",
    "\n",
    "    Parameters:\n",
    "        test_dataset (list): The dataset to process.\n",
    "        infer_template (function): A function to generate input from the dataset.\n",
    "        inference (function): A function to perform inference on the input.\n",
    "\n",
    "    Returns:\n",
    "        list: A list of inference results.\n",
    "    \"\"\"\n",
    "    from tqdm import tqdm\n",
    "\n",
    "    results = []\n",
    "\n",
    "    # Lặp qua toàn bộ dataset với tqdm\n",
    "    for index in tqdm(range(len(test_dataset)), desc=\"Processing Dataset\"):\n",
    "        input_sample = infer_template(test_dataset, index)\n",
    "        result = inference(input_sample)\n",
    "        results.append(result)\n",
    "\n",
    "    return results\n",
    "\n",
    "# Ví dụ sử dụng:\n",
    "results = process_dataset(test_dataset, infer_template, inference)"
   ]
  },
  {
   "cell_type": "code",
   "execution_count": 27,
   "metadata": {
    "execution": {
     "iopub.execute_input": "2024-12-27T14:52:39.632691Z",
     "iopub.status.busy": "2024-12-27T14:52:39.632276Z",
     "iopub.status.idle": "2024-12-27T14:52:39.637257Z",
     "shell.execute_reply": "2024-12-27T14:52:39.636307Z",
     "shell.execute_reply.started": "2024-12-27T14:52:39.632664Z"
    },
    "trusted": true
   },
   "outputs": [
    {
     "name": "stdout",
     "output_type": "stream",
     "text": [
      "system\n",
      "You are a cybersecurity assistant answering multiple-choice questions on ethical hacking and cybersecurity practices, specifically aligned with CEH v10 standards. Return only the correct answer without providing explanations.\n",
      "user\n",
      "\n",
      "Question: You have successfully logged on a Linux system. You want to now cover your trade Your login attempt may\n",
      "be logged on several files located in /var/log. Which file does NOT belongs to the list:\n",
      "\n",
      "Choices: \n",
      "A. user.log\n",
      "B. auth.fesg\n",
      "C. wtmp\n",
      "D. btmp\n",
      "\n",
      "assistant\n",
      "The correct answer: A. user.log\n",
      "Reasoning: The user.log file belongs to the user and is typically used for logging user-related events. The other files are system logs that belong to the system and are used for system-wide logging purposes.\n"
     ]
    }
   ],
   "source": [
    "print(results[0])"
   ]
  },
  {
   "cell_type": "code",
   "execution_count": 28,
   "metadata": {
    "execution": {
     "iopub.execute_input": "2024-12-27T14:53:25.598796Z",
     "iopub.status.busy": "2024-12-27T14:53:25.598470Z",
     "iopub.status.idle": "2024-12-27T14:53:25.605184Z",
     "shell.execute_reply": "2024-12-27T14:53:25.604377Z",
     "shell.execute_reply.started": "2024-12-27T14:53:25.598774Z"
    },
    "trusted": true
   },
   "outputs": [],
   "source": [
    "def extract_answers(results, full_answer=False):\n",
    "    \"\"\"\n",
    "    Extract answers from a list of results.\n",
    "\n",
    "    Parameters:\n",
    "        results (list of str): List of result strings to extract answers from.\n",
    "        full_answer (bool): If True, extract the full answer. If False, extract only the representative letter.\n",
    "\n",
    "    Returns:\n",
    "        list of str: Extracted answers.\n",
    "    \"\"\"\n",
    "    answers = []\n",
    "    for result in results:\n",
    "        # Tìm vị trí bắt đầu của \"The correct answer: \"\n",
    "        start_index = result.find(\"The correct answer: \") + len(\"The correct answer: \")\n",
    "        \n",
    "        if full_answer:\n",
    "            # Tìm vị trí kết thúc của đáp án (đến dấu xuống dòng hoặc kết thúc chuỗi)\n",
    "            end_index = result.find(\"\\n\", start_index)\n",
    "            if end_index == -1:  # Nếu không có dấu xuống dòng, lấy đến hết chuỗi\n",
    "                end_index = len(result)\n",
    "            # Lấy nội dung đáp án đầy đủ\n",
    "            answer = result[start_index:end_index].strip()\n",
    "        else:\n",
    "            # Chỉ lấy chữ cái đại diện (ký tự đầu tiên sau \"The correct answer: \")\n",
    "            answer = result[start_index].strip()\n",
    "\n",
    "        answers.append(answer)\n",
    "    return answers\n",
    "\n",
    "def extract_response(results):\n",
    "    \"\"\"\n",
    "    Extract responses from a list of results starting from a specific marker.\n",
    "\n",
    "    Parameters:\n",
    "        results (list of str): List of result strings to extract responses from.\n",
    "\n",
    "    Returns:\n",
    "        list of str: Extracted responses.\n",
    "    \"\"\"\n",
    "    responses = []\n",
    "    marker = \"\\nassistant\\n\"\n",
    "\n",
    "    for result in results:\n",
    "        # Tìm vị trí bắt đầu của marker\n",
    "        start_index = result.find(marker) + len(marker)\n",
    "        \n",
    "        if start_index != -1:\n",
    "            # Lấy nội dung từ vị trí marker đến hết\n",
    "            response = result[start_index:].strip()\n",
    "            responses.append(response)\n",
    "        else:\n",
    "            # Nếu không tìm thấy marker, thêm thông báo rỗng hoặc tùy chọn khác\n",
    "            responses.append(\"\")\n",
    "\n",
    "    return responses\n",
    "\n",
    "def check_answers(example):\n",
    "    return {'is_correct': 1 if example['ground_truth'] == example['predicted_answers'] else 0}"
   ]
  },
  {
   "cell_type": "code",
   "execution_count": 32,
   "metadata": {
    "execution": {
     "iopub.execute_input": "2024-12-27T14:53:50.061860Z",
     "iopub.status.busy": "2024-12-27T14:53:50.061533Z",
     "iopub.status.idle": "2024-12-27T14:53:50.065827Z",
     "shell.execute_reply": "2024-12-27T14:53:50.064985Z",
     "shell.execute_reply.started": "2024-12-27T14:53:50.061833Z"
    },
    "trusted": true
   },
   "outputs": [],
   "source": [
    "predicted_response = extract_response(results) # Danh sách các câu trả lời đầy đủ dự đoán\n",
    "predicted_answers = extract_answers(results)  # Danh sách các đáp án chữ cái đại diện dự đoán"
   ]
  },
  {
   "cell_type": "code",
   "execution_count": 33,
   "metadata": {
    "execution": {
     "iopub.execute_input": "2024-12-27T14:53:54.150289Z",
     "iopub.status.busy": "2024-12-27T14:53:54.149976Z",
     "iopub.status.idle": "2024-12-27T14:53:54.155860Z",
     "shell.execute_reply": "2024-12-27T14:53:54.155164Z",
     "shell.execute_reply.started": "2024-12-27T14:53:54.150265Z"
    },
    "trusted": true
   },
   "outputs": [
    {
     "name": "stdout",
     "output_type": "stream",
     "text": [
      "First response:  The correct answer: A. user.log\n",
      "Reasoning: The user.log file belongs to the user and is typically used for logging user-related events. The other files are system logs that belong to the system and are used for system-wide logging purposes. \n",
      " ------------------------------------------------------------------------------------------------------------------------------------------------------ \n",
      "\n",
      "First ans:  A\n"
     ]
    }
   ],
   "source": [
    "print(\"First response: \", predicted_response[0], \"\\n\", \"-\"*150, \"\\n\")\n",
    "print(\"First ans: \", predicted_answers[0])"
   ]
  },
  {
   "cell_type": "code",
   "execution_count": 34,
   "metadata": {
    "execution": {
     "iopub.execute_input": "2024-12-27T14:54:06.746795Z",
     "iopub.status.busy": "2024-12-27T14:54:06.746422Z",
     "iopub.status.idle": "2024-12-27T14:54:06.789945Z",
     "shell.execute_reply": "2024-12-27T14:54:06.788931Z",
     "shell.execute_reply.started": "2024-12-27T14:54:06.746764Z"
    },
    "trusted": true
   },
   "outputs": [
    {
     "data": {
      "application/vnd.jupyter.widget-view+json": {
       "model_id": "f7d7a9816bdb4b95827ea1971ba489bd",
       "version_major": 2,
       "version_minor": 0
      },
      "text/plain": [
       "Map:   0%|          | 0/150 [00:00<?, ? examples/s]"
      ]
     },
     "metadata": {},
     "output_type": "display_data"
    }
   ],
   "source": [
    "# Thêm cột \"predicted_response\" vào dataset\n",
    "test_dataset = test_dataset.add_column(\"predicted_response\", predicted_response)\n",
    "\n",
    "# Thêm cột \"predicted_answers\" vào dataset\n",
    "test_dataset = test_dataset.add_column(\"predicted_answers\", predicted_answers)\n",
    "\n",
    "# So sánh \"predicted_answers\" và \"ground_truth\" để thêm cột \"is_correct\" vào dataset\n",
    "test_dataset = test_dataset.map(check_answers)"
   ]
  },
  {
   "cell_type": "code",
   "execution_count": 35,
   "metadata": {
    "execution": {
     "iopub.execute_input": "2024-12-27T14:54:08.113249Z",
     "iopub.status.busy": "2024-12-27T14:54:08.112904Z",
     "iopub.status.idle": "2024-12-27T14:54:08.118370Z",
     "shell.execute_reply": "2024-12-27T14:54:08.117448Z",
     "shell.execute_reply.started": "2024-12-27T14:54:08.113204Z"
    },
    "trusted": true
   },
   "outputs": [
    {
     "data": {
      "text/plain": [
       "Dataset({\n",
       "    features: ['index', 'question', 'ground_truth', 'predicted_response', 'predicted_answers', 'is_correct'],\n",
       "    num_rows: 150\n",
       "})"
      ]
     },
     "execution_count": 35,
     "metadata": {},
     "output_type": "execute_result"
    }
   ],
   "source": [
    "test_dataset"
   ]
  },
  {
   "cell_type": "code",
   "execution_count": 36,
   "metadata": {
    "execution": {
     "iopub.execute_input": "2024-12-27T14:54:10.449786Z",
     "iopub.status.busy": "2024-12-27T14:54:10.449489Z",
     "iopub.status.idle": "2024-12-27T14:54:10.455923Z",
     "shell.execute_reply": "2024-12-27T14:54:10.455115Z",
     "shell.execute_reply.started": "2024-12-27T14:54:10.449766Z"
    },
    "trusted": true
   },
   "outputs": [
    {
     "name": "stdout",
     "output_type": "stream",
     "text": [
      "Số câu đúng:  60\n",
      "Accuracy:  40.0\n"
     ]
    }
   ],
   "source": [
    "def calculate_accuracy(dataset, column_name=\"is_correct\"):\n",
    "    \"\"\"\n",
    "    Calculate the accuracy based on a specified column in the dataset.\n",
    "\n",
    "    Parameters:\n",
    "        dataset (dict or DataFrame): The dataset containing the results.\n",
    "        column_name (str): The name of the column containing boolean correctness values.\n",
    "\n",
    "    Returns:\n",
    "        float: The accuracy percentage.\n",
    "    \"\"\"\n",
    "    # Lấy danh sách giá trị của cột\n",
    "    check_values = dataset[column_name]\n",
    "\n",
    "    # Tính số câu đúng\n",
    "    num_correct = sum(check_values)\n",
    "    \n",
    "    # Tính accuracy\n",
    "    accuracy = round((num_correct / len(check_values)) * 100, 2)\n",
    "\n",
    "    return num_correct, accuracy\n",
    "\n",
    "# Tính accuracy\n",
    "num_correct, accuracy = calculate_accuracy(test_dataset)\n",
    "print(\"Số câu đúng: \", num_correct)\n",
    "print(\"Accuracy: \", accuracy)"
   ]
  },
  {
   "cell_type": "code",
   "execution_count": 37,
   "metadata": {
    "execution": {
     "iopub.execute_input": "2024-12-27T14:54:11.867865Z",
     "iopub.status.busy": "2024-12-27T14:54:11.867520Z",
     "iopub.status.idle": "2024-12-27T14:54:11.919269Z",
     "shell.execute_reply": "2024-12-27T14:54:11.918459Z",
     "shell.execute_reply.started": "2024-12-27T14:54:11.867834Z"
    },
    "trusted": true
   },
   "outputs": [
    {
     "name": "stdout",
     "output_type": "stream",
     "text": [
      "Dataset đã được lưu thành file Excel: output.xlsx\n"
     ]
    }
   ],
   "source": [
    "import pandas as pd\n",
    "\n",
    "def save_dataset(dataset, filename=\"output.xlsx\", file_format=\"excel\"):\n",
    "    \"\"\"\n",
    "    Save a dataset to an Excel or CSV file.\n",
    "\n",
    "    Parameters:\n",
    "        dataset (list or dict): The dataset to be converted into a DataFrame.\n",
    "        filename (str): The name of the file to save.\n",
    "        file_format (str): The format of the file (\"excel\" or \"csv\").\n",
    "\n",
    "    Returns:\n",
    "        None\n",
    "    \"\"\"\n",
    "    # Chuyển đổi dataset thành DataFrame\n",
    "    df = pd.DataFrame(dataset)\n",
    "\n",
    "    if file_format.lower() == \"excel\":\n",
    "        # Lưu DataFrame thành file Excel\n",
    "        df.to_excel(filename, index=False)\n",
    "        print(f\"Dataset đã được lưu thành file Excel: {filename}\")\n",
    "    elif file_format.lower() == \"csv\":\n",
    "        # Lưu DataFrame thành file CSV\n",
    "        df.to_csv(filename, index=False)\n",
    "        print(f\"Dataset đã được lưu thành file CSV: {filename}\")\n",
    "    else:\n",
    "        raise ValueError(\"file_format phải là 'excel' hoặc 'csv'\")\n",
    "\n",
    "# Lưu ra file excel hoặc csv\n",
    "save_dataset(test_dataset, filename=\"output.xlsx\", file_format=\"excel\")\n",
    "# save_dataset(test_dataset, filename=\"output.xlsx\", file_format=\"csv\")"
   ]
  }
 ],
 "metadata": {
  "kaggle": {
   "accelerator": "gpu",
   "dataSources": [
    {
     "datasetId": 6300198,
     "sourceId": 10196400,
     "sourceType": "datasetVersion"
    },
    {
     "datasetId": 6383998,
     "sourceId": 10312439,
     "sourceType": "datasetVersion"
    }
   ],
   "dockerImageVersionId": 30823,
   "isGpuEnabled": true,
   "isInternetEnabled": true,
   "language": "python",
   "sourceType": "notebook"
  },
  "kernelspec": {
   "display_name": "Python 3",
   "language": "python",
   "name": "python3"
  },
  "language_info": {
   "codemirror_mode": {
    "name": "ipython",
    "version": 3
   },
   "file_extension": ".py",
   "mimetype": "text/x-python",
   "name": "python",
   "nbconvert_exporter": "python",
   "pygments_lexer": "ipython3",
   "version": "3.10.12"
  }
 },
 "nbformat": 4,
 "nbformat_minor": 4
}
